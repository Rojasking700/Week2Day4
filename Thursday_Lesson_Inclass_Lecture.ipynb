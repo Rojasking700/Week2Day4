{
 "cells": [
  {
   "cell_type": "markdown",
   "metadata": {},
   "source": [
    "# Object-Oriented-Programming (OOP)"
   ]
  },
  {
   "cell_type": "markdown",
   "metadata": {},
   "source": [
    "## Tasks Today:\n",
    "\n",
    "   \n",
    "\n",
    "1) <b>Creating a Class (Initializing/Declaring)</b> <br>\n",
    "2) <b>Using a Class (Instantiating)</b> <br>\n",
    " &nbsp;&nbsp;&nbsp;&nbsp; a) Creating One Instance <br>\n",
    " &nbsp;&nbsp;&nbsp;&nbsp; b) Creating Multiple Instances <br>\n",
    " &nbsp;&nbsp;&nbsp;&nbsp; c) In-Class Exercise #1 - Create a Class 'Car' and instantiate three different makes of cars <br>\n",
    "3) <b>The \\__init\\__() Method</b> <br>\n",
    " &nbsp;&nbsp;&nbsp;&nbsp; a) The 'self' Attribute <br>\n",
    "4) <b>Class Attributes</b> <br>\n",
    " &nbsp;&nbsp;&nbsp;&nbsp; a) Initializing Attributes <br>\n",
    " &nbsp;&nbsp;&nbsp;&nbsp; b) Setting an Attribute Outside of the \\__init\\__() Method <br>\n",
    " &nbsp;&nbsp;&nbsp;&nbsp; c) Setting Defaults for Attributes <br>\n",
    " &nbsp;&nbsp;&nbsp;&nbsp; d) Accessing Class Attributes <br>\n",
    " &nbsp;&nbsp;&nbsp;&nbsp; e) Changing Class Attributes <br>\n",
    " &nbsp;&nbsp;&nbsp;&nbsp; f) In-Class Exercise #2 - Add a color and wheels attribute to your 'Car' class <br>\n",
    "5) <b>Class Methods</b> <br>\n",
    " &nbsp;&nbsp;&nbsp;&nbsp; a) Creating <br>\n",
    " &nbsp;&nbsp;&nbsp;&nbsp; b) Calling <br>\n",
    " &nbsp;&nbsp;&nbsp;&nbsp; c) Modifying an Attribute's Value Through a Method <br>\n",
    " &nbsp;&nbsp;&nbsp;&nbsp; d) Incrementing an Attribute's Value Through a Method <br>\n",
    " &nbsp;&nbsp;&nbsp;&nbsp; e) In-Class Exercise #3 - Add a method that prints the cars color and wheel number, then call them <br>\n",
    "6) <b>Inheritance</b> <br>\n",
    " &nbsp;&nbsp;&nbsp;&nbsp; a) Syntax for Inheriting from a Parent Class <br>\n",
    " &nbsp;&nbsp;&nbsp;&nbsp; b) The \\__init\\__() Method for a Child Class (super()) <br>\n",
    " &nbsp;&nbsp;&nbsp;&nbsp; c) Defining Attributes and Methods for the Child Class <br>\n",
    " &nbsp;&nbsp;&nbsp;&nbsp; d) Method Overriding <br>\n",
    " &nbsp;&nbsp;&nbsp;&nbsp; e) In-Class Exercise #4 - Create a class 'Ford' that inherits from 'Car' class and initialize it as a Blue Ford Explorer with 4 wheels using the super() method <br>\n",
    "7) <b>Classes as Attributes</b> <br>\n",
    "8) <b>Exercises</b> <br>\n",
    " &nbsp;&nbsp;&nbsp;&nbsp; a) Exercise #1 - Turn the shopping cart program from yesterday into an object-oriented program <br>"
   ]
  },
  {
   "cell_type": "code",
   "execution_count": 2,
   "metadata": {},
   "outputs": [],
   "source": [
    "#shopping cart example \n",
    "from IPython.display import clear_output\n",
    "\n",
    "cart = []\n",
    "\n",
    "def shopingCart():\n",
    "    while True:\n",
    "        response = input(\"what do you want to do? Add/Remove/Show/Clear or Quit\").input()\n",
    "        \n",
    "        if response =='quit':\n",
    "            break\n",
    "        elif response =='add':\n",
    "            pass\n",
    "        elif respose =='remove':\n",
    "            pass\n",
    "        elif response =='show':\n",
    "            pass\n",
    "        elif response =='clear':\n",
    "            pass\n",
    "        else:\n",
    "            print(\"that response is not valid.\")\n"
   ]
  },
  {
   "cell_type": "code",
   "execution_count": null,
   "metadata": {},
   "outputs": [],
   "source": [
    "# Circumfrance of a cirle\n"
   ]
  },
  {
   "cell_type": "markdown",
   "metadata": {},
   "source": [
    "## Creating a Class (Initializing/Declaring)\n",
    "<p>When creating a class, function, or even a variable you are initializing that object. Initializing and Declaring occur at the same time in Python, whereas in lower level languages you have to declare an object before initializing it. This is the first step in the process of using a class.</p>"
   ]
  },
  {
   "cell_type": "code",
   "execution_count": 5,
   "metadata": {},
   "outputs": [],
   "source": [
    "class Car():\n",
    "    pass"
   ]
  },
  {
   "cell_type": "markdown",
   "metadata": {},
   "source": [
    "## Using a Class (Instantiating)\n",
    "<p>The process of creating a class is called <i>Instantiating</i>. Each time you create a variable of that type of class, it is referred to as an <i>Instance</i> of that class. This is the second step in the process of using a class.</p>"
   ]
  },
  {
   "cell_type": "markdown",
   "metadata": {},
   "source": [
    "##### Creating One Instance"
   ]
  },
  {
   "cell_type": "code",
   "execution_count": 6,
   "metadata": {},
   "outputs": [
    {
     "name": "stdout",
     "output_type": "stream",
     "text": [
      "<__main__.Car object at 0x00000227697AC730>\n"
     ]
    }
   ],
   "source": [
    "ford = Car()\n",
    "\n",
    "print(ford)"
   ]
  },
  {
   "cell_type": "markdown",
   "metadata": {},
   "source": [
    "##### Creating Multiple Instances"
   ]
  },
  {
   "cell_type": "code",
   "execution_count": 13,
   "metadata": {},
   "outputs": [
    {
     "name": "stdout",
     "output_type": "stream",
     "text": [
      "<__main__.Car object at 0x00000227697ACD60>\n",
      "<__main__.Car object at 0x00000227697ACB80>\n",
      "<__main__.Car object at 0x00000227697AC790>\n"
     ]
    }
   ],
   "source": [
    "chevy = Car()\n",
    "print(chevy)\n",
    "\n",
    "honda = Car()\n",
    "print(honda)\n",
    "porshe = Car()\n",
    "print(porshe)\n"
   ]
  },
  {
   "cell_type": "markdown",
   "metadata": {},
   "source": [
    "##### In-Class Exercise #1 - Create a Class 'Car' and Instantiate three different makes of cars"
   ]
  },
  {
   "cell_type": "code",
   "execution_count": 14,
   "metadata": {},
   "outputs": [],
   "source": [
    "ford.color = 'blue'\n",
    "chevy.color = 'green'\n",
    "honda.color = 'pink'\n",
    "porshe.color = 'orange'\n",
    "\n"
   ]
  },
  {
   "cell_type": "code",
   "execution_count": 15,
   "metadata": {},
   "outputs": [
    {
     "name": "stdout",
     "output_type": "stream",
     "text": [
      "this car is blue\n",
      "this car is green\n",
      "this car is pink\n",
      "this car is  orange\n"
     ]
    }
   ],
   "source": [
    "cars = [ford,chevy,honda,porshe]\n",
    "for car in cars:\n",
    "    print(f\"this car is {car.color}\")"
   ]
  },
  {
   "cell_type": "markdown",
   "metadata": {},
   "source": [
    "## The \\__init\\__() Method <br>\n",
    "<p>This method is used in almost every created class, and called only once upon the creation of the class instance. This method will initialize all variables needed for the object.</p>"
   ]
  },
  {
   "cell_type": "code",
   "execution_count": 22,
   "metadata": {},
   "outputs": [],
   "source": [
    "class Car():\n",
    "    \n",
    "    def __init__(self, color):\n",
    "        self.color = color\n",
    "        self.wheels = 4\n",
    "        \n",
    "ford = Car('blue')\n",
    "toyota = Car('red')"
   ]
  },
  {
   "cell_type": "code",
   "execution_count": 23,
   "metadata": {
    "scrolled": true
   },
   "outputs": [
    {
     "data": {
      "text/plain": [
       "'red'"
      ]
     },
     "execution_count": 23,
     "metadata": {},
     "output_type": "execute_result"
    }
   ],
   "source": [
    "ford.color\n",
    "toyota.color"
   ]
  },
  {
   "cell_type": "code",
   "execution_count": 24,
   "metadata": {},
   "outputs": [
    {
     "data": {
      "text/plain": [
       "{'color': 'red', 'wheels': 4}"
      ]
     },
     "execution_count": 24,
     "metadata": {},
     "output_type": "execute_result"
    }
   ],
   "source": [
    "toyota.__dict__"
   ]
  },
  {
   "cell_type": "markdown",
   "metadata": {},
   "source": [
    "##### The 'self' Attribute <br>\n",
    "<p>This attribute is required to keep track of specific instance's attributes. Without the self attribute, the program would not know how to reference or keep track of an instance's attributes.</p>"
   ]
  },
  {
   "cell_type": "code",
   "execution_count": null,
   "metadata": {},
   "outputs": [],
   "source": [
    "# see above"
   ]
  },
  {
   "cell_type": "markdown",
   "metadata": {},
   "source": [
    "## Class Attributes <br>\n",
    "<p>While variables are inside of a class, they are referred to as attributes and not variables. When someone says 'attribute' you know they're speaking about a class. Attributes can be initialized through the init method, or outside of it.</p>"
   ]
  },
  {
   "cell_type": "markdown",
   "metadata": {},
   "source": [
    "##### Initializing Attributes"
   ]
  },
  {
   "cell_type": "code",
   "execution_count": 26,
   "metadata": {},
   "outputs": [],
   "source": [
    "# see above\n",
    "class Truck():\n",
    "    wheels = 4\n",
    "    \n",
    "    def __init__(self, color, make):\n",
    "        self.color = color\n",
    "        self.make = make "
   ]
  },
  {
   "cell_type": "code",
   "execution_count": 27,
   "metadata": {},
   "outputs": [],
   "source": [
    "truck_1 = Truck('black','ford')\n",
    "truck_2 = Truck('red','chevy')\n"
   ]
  },
  {
   "cell_type": "code",
   "execution_count": 28,
   "metadata": {},
   "outputs": [
    {
     "name": "stdout",
     "output_type": "stream",
     "text": [
      "16\n",
      "4\n",
      "{'color': 'black', 'make': 'ford', 'wheels': 16}\n",
      "{'color': 'red', 'make': 'chevy'}\n"
     ]
    }
   ],
   "source": [
    "truck_1.wheels = 16\n",
    "print(truck_1.wheels)\n",
    "print(truck_2.wheels)\n",
    "\n",
    "print(truck_1.__dict__)\n",
    "print(truck_2.__dict__)"
   ]
  },
  {
   "cell_type": "markdown",
   "metadata": {},
   "source": [
    "##### Accessing Class Attributes"
   ]
  },
  {
   "cell_type": "code",
   "execution_count": null,
   "metadata": {
    "scrolled": true
   },
   "outputs": [],
   "source": [
    "# See Above"
   ]
  },
  {
   "cell_type": "markdown",
   "metadata": {},
   "source": [
    "##### Setting Defaults for Attributes"
   ]
  },
  {
   "cell_type": "code",
   "execution_count": null,
   "metadata": {},
   "outputs": [],
   "source": []
  },
  {
   "cell_type": "markdown",
   "metadata": {},
   "source": [
    "##### Changing Class Attributes <br>\n",
    "<p>Keep in mind there are global class attributes and then there are attributes only available to each class instance which won't effect other classes.</p>"
   ]
  },
  {
   "cell_type": "code",
   "execution_count": 29,
   "metadata": {},
   "outputs": [],
   "source": [
    "# see above\n",
    "class Truck():\n",
    "    wheels = 4\n",
    "    \n",
    "    def __init__(self, color, make):\n",
    "        self.color = color\n",
    "        self.make = make \n",
    "        \n",
    "truck_1 = Truck('black','ford')\n",
    "truck_2 = Truck('red','chevy')\n"
   ]
  },
  {
   "cell_type": "code",
   "execution_count": 30,
   "metadata": {},
   "outputs": [],
   "source": [
    "truck_1.wheels = 18\n",
    "print(truck_1.wheels)"
   ]
  },
  {
   "cell_type": "markdown",
   "metadata": {},
   "source": [
    "##### In-Class Exercise #2 - Add a doors and seats attribute to your 'Car' class then print out two different instances with different doors and seats"
   ]
  },
  {
   "cell_type": "code",
   "execution_count": 38,
   "metadata": {},
   "outputs": [
    {
     "name": "stdout",
     "output_type": "stream",
     "text": [
      "{'doors': 2, 'seats': 5}\n",
      "{'doors': 4, 'seats': 5}\n",
      "4\n"
     ]
    }
   ],
   "source": [
    "class Car():\n",
    "    wheels = 4\n",
    "    def __init__(self, doors, seats):\n",
    "        self.doors = doors\n",
    "        self.seats = seats\n",
    "        \n",
    "GTR = Car(2, 5)\n",
    "bmw = Car(4, 5)\n",
    "\n",
    "print(GTR.__dict__)\n",
    "print(bmw.__dict__)\n",
    "print(GTR.wheels)\n",
    "\n"
   ]
  },
  {
   "cell_type": "markdown",
   "metadata": {},
   "source": [
    "## Class Methods <br>\n",
    "<p>While inside of a class, functions are referred to as 'methods'. If you hear someone mention methods, they're speaking about classes. Methods are essentially functions, but only callable on the instances of a class.</p>"
   ]
  },
  {
   "cell_type": "markdown",
   "metadata": {},
   "source": [
    "##### Creating"
   ]
  },
  {
   "cell_type": "code",
   "execution_count": 66,
   "metadata": {},
   "outputs": [],
   "source": [
    "class employee():\n",
    "    \n",
    "    raise_amount = 1.05\n",
    "    \n",
    "    def __init__(self, first,last, salary):\n",
    "        self.first = first\n",
    "        self.last = last\n",
    "        self.salary = salary\n",
    "        self.email = first + '-' + last + \"@company.org\"\n",
    "        \n",
    "    def fullname(self):\n",
    "        return f\"{emp1.first} {emp1.last}\"\n",
    "    \n",
    "    def applyRaise(self):\n",
    "        self.salary = int(self.salary * employee.raise_amount)\n",
    "        \n",
    "    def changeLastName(self,last):\n",
    "        self.last = last\n",
    "        self.email = self.first + '-' + last + '@company.org'\n",
    "        \n",
    "emp1 = employee('bill','williams',50000)\n",
    "emp2 = employee('sally','feild',100000)"
   ]
  },
  {
   "cell_type": "markdown",
   "metadata": {},
   "source": [
    "##### Calling"
   ]
  },
  {
   "cell_type": "code",
   "execution_count": 42,
   "metadata": {},
   "outputs": [
    {
     "name": "stdout",
     "output_type": "stream",
     "text": [
      "bill williams\n"
     ]
    }
   ],
   "source": [
    "# See Above\n",
    "print(emp1.fullname())"
   ]
  },
  {
   "cell_type": "code",
   "execution_count": 71,
   "metadata": {},
   "outputs": [
    {
     "name": "stdout",
     "output_type": "stream",
     "text": [
      "bill Billiams\n"
     ]
    }
   ],
   "source": [
    "emp1.changeLastName('Billiams')\n",
    "print(emp1.fullname())"
   ]
  },
  {
   "cell_type": "markdown",
   "metadata": {},
   "source": [
    "##### Modifying an Attribute's Value Through a Method"
   ]
  },
  {
   "cell_type": "code",
   "execution_count": 53,
   "metadata": {},
   "outputs": [
    {
     "name": "stdout",
     "output_type": "stream",
     "text": [
      "52500\n",
      "105000\n",
      "55125\n",
      "110250\n"
     ]
    }
   ],
   "source": [
    "print(emp1.salary)\n",
    "print(emp2.salary)\n",
    "emp2.raise_amount= 1.10\n",
    "emp1.applyRaise()\n",
    "emp2.applyRaise()\n",
    "print(emp1.salary)\n",
    "print(emp2.salary)"
   ]
  },
  {
   "cell_type": "code",
   "execution_count": 61,
   "metadata": {},
   "outputs": [
    {
     "name": "stdout",
     "output_type": "stream",
     "text": [
      "{'first': 'bill', 'last': 'williams', 'salary': 55125, 'email': 'bill-williams@company.org'}\n",
      "{'first': 'sally', 'last': 'feild', 'salary': 110250, 'email': 'sally-feild@company.org', 'raise_amount': 1.1}\n"
     ]
    }
   ],
   "source": [
    "print(emp1.__dict__)\n",
    "print(emp2.__dict__)"
   ]
  },
  {
   "cell_type": "markdown",
   "metadata": {},
   "source": [
    "##### Incrementing an Attribute's Value Through a Method"
   ]
  },
  {
   "cell_type": "code",
   "execution_count": null,
   "metadata": {},
   "outputs": [],
   "source": []
  },
  {
   "cell_type": "markdown",
   "metadata": {},
   "source": [
    "##### In-Class Exercise #3 - Add a method that takes in three parameters of year, doors and seats and prints out a formatted print statement with make, model, year, seats, and doors"
   ]
  },
  {
   "cell_type": "code",
   "execution_count": 78,
   "metadata": {},
   "outputs": [
    {
     "name": "stdout",
     "output_type": "stream",
     "text": [
      "This car is a 1998 nissan skyline R34 and has 2 doors and 5 seats\n"
     ]
    }
   ],
   "source": [
    "# Create class with 2 paramters inside of the __init__ which are make and model\n",
    "\n",
    "# Inside of the Car class create a method that has 4 parameter in total (self,year,door,seats)\n",
    "\n",
    "# Output: This car is from 2019 and is a Ford Expolorer and has 4 doors and 5 seats\n",
    "\n",
    "class Car():\n",
    "    \n",
    "    def __init__(self, year, make):\n",
    "        self.year = year\n",
    "        self.make = make\n",
    "        \n",
    "    def info(self, model, doors, seats):\n",
    "        self.model = model\n",
    "        self.doors = doors\n",
    "        self.seats = seats\n",
    "        \n",
    "    def carInfo(self):\n",
    "        print(f\"This car is a {self.year} {self.make} {self.model} and has {self.doors} doors and {self.seats} seats\")\n",
    "        \n",
    "GTR = Car(1998, 'nissan')\n",
    "GTR.info('skyline R34', 2, 5)\n",
    "GTR.carInfo()"
   ]
  },
  {
   "cell_type": "markdown",
   "metadata": {},
   "source": [
    "## Inheritance <br>\n",
    "<p>You can create a child-parent relationship between two classes by using inheritance. What this allows you to do is have overriding methods, but also inherit traits from the parent class. Think of it as an actual parent and child, the child will inherit the parent's genes, as will the classes in OOP</p>"
   ]
  },
  {
   "cell_type": "markdown",
   "metadata": {},
   "source": [
    "##### Syntax for Inheriting from a Parent Class"
   ]
  },
  {
   "cell_type": "code",
   "execution_count": 82,
   "metadata": {},
   "outputs": [
    {
     "name": "stdout",
     "output_type": "stream",
     "text": [
      "The dog has 15 mph in speed and 9.8 in acceleration\n"
     ]
    }
   ],
   "source": [
    "class animal():\n",
    "    acceleration = 9.8\n",
    "    \n",
    "    def __init__(self, name, species , legs=4):\n",
    "        self.name = name \n",
    "        self.species = species\n",
    "        self.legs = legs\n",
    "    \n",
    "    def makeSound(self):\n",
    "        print(\"generic sound\")\n",
    "    \n",
    "class dog(animal):\n",
    "    speed = 15\n",
    "    \n",
    "    def __init__(self,name,species,color,legs=4):\n",
    "        animal.__init__(self,name,species,legs)\n",
    "        self.color = color\n",
    "    \n",
    "    def printInfo(self):\n",
    "        print(f\"The dog has {self.speed} mph in speed and {self.acceleration} in acceleration\")\n",
    "        \n",
    "lassie = dog(\"Lassie\",\"dog\")\n",
    "lassie.printInfo()\n"
   ]
  },
  {
   "cell_type": "markdown",
   "metadata": {},
   "source": [
    "##### The \\__init\\__() Method for a Child Class - super()"
   ]
  },
  {
   "cell_type": "code",
   "execution_count": 130,
   "metadata": {
    "scrolled": true
   },
   "outputs": [
    {
     "name": "stdout",
     "output_type": "stream",
     "text": [
      "generic sound\n",
      "bark\n"
     ]
    },
    {
     "data": {
      "text/plain": [
       "'hello'"
      ]
     },
     "execution_count": 130,
     "metadata": {},
     "output_type": "execute_result"
    }
   ],
   "source": [
    "class animal():\n",
    "    acceleration = 9.8\n",
    "    \n",
    "    def __init__(self, name, species , legs=4):\n",
    "        self.name = name \n",
    "        self.species = species\n",
    "        self.legs = legs\n",
    "    \n",
    "    def makeSound(self):\n",
    "        self.sound = \"hello\"\n",
    "        print(\"generic sound\")\n",
    "    \n",
    "class dog(animal):\n",
    "    speed = 15\n",
    "    \n",
    "    def __init__(self,name,species,color,legs=4):\n",
    "        #wiill execute the parent (animal) class's __init__ method\n",
    "        super().__init__(name,species,legs)\n",
    "        self.color = color\n",
    "    \n",
    "    def printInfo(self):\n",
    "        print(f\"The dog has {self.speed} mph in speed and {self.acceleration} in acceleration\")\n",
    "        \n",
    "    def makeSound(self):\n",
    "        #will execute the parent (animal) class make sound method\n",
    "        super().makeSound()\n",
    "        #continue with own class (dog) make sound method\n",
    "        print(\"bark\")\n",
    "        \n",
    "# lassie = dog(\"Lassie\",\"dog\")\n",
    "# lassie.printInfo()\n",
    "\n",
    "buddy = dog('buddy','dog','black')\n",
    "buddy.makeSound()\n",
    "buddy.sound"
   ]
  },
  {
   "cell_type": "markdown",
   "metadata": {},
   "source": [
    "##### Defining Attributes and Methods for the Child Class"
   ]
  },
  {
   "cell_type": "code",
   "execution_count": null,
   "metadata": {},
   "outputs": [],
   "source": [
    "# See Above"
   ]
  },
  {
   "cell_type": "markdown",
   "metadata": {},
   "source": [
    "##### Method Overriding"
   ]
  },
  {
   "cell_type": "code",
   "execution_count": null,
   "metadata": {},
   "outputs": [],
   "source": [
    "# See Above"
   ]
  },
  {
   "cell_type": "markdown",
   "metadata": {},
   "source": [
    "## Classes as Attributes <br>\n",
    "<p>Classes can also be used as attributes within another class. This is useful in situations where you need to keep variables locally stored, instead of globally stored.</p>"
   ]
  },
  {
   "cell_type": "code",
   "execution_count": 99,
   "metadata": {},
   "outputs": [
    {
     "name": "stdout",
     "output_type": "stream",
     "text": [
      "20\n",
      "25\n"
     ]
    }
   ],
   "source": [
    "class Battery():\n",
    "    volts = 7.8\n",
    "    \n",
    "    def __init__(self,cells):\n",
    "        self.cells = cells\n",
    "        \n",
    "    def increaseCells(self):\n",
    "        self.cells += 5\n",
    "\n",
    "class Car():\n",
    "    \n",
    "    def __init__(self,year,make,model,battery):\n",
    "        self.year = year\n",
    "        self.make = make \n",
    "        self.model = model\n",
    "        self.battery = battery\n",
    "        \n",
    "    def printInfo(self):\n",
    "        print(self.year,self.make,self.model, self.battery)\n",
    "        \n",
    "        \n",
    "bat1 = Battery(20)\n",
    "\n",
    "tesla = Car(2020,'test','model x',bat1)\n",
    "\n",
    "print(tesla.battery.cells)\n",
    "tesla.battery.increaseCells()\n",
    "print(tesla.battery.cells)\n"
   ]
  },
  {
   "cell_type": "markdown",
   "metadata": {},
   "source": [
    "# Exercises"
   ]
  },
  {
   "cell_type": "markdown",
   "metadata": {},
   "source": [
    "### Exercise 1 - Turn the shopping cart program from yesterday into an object-oriented program"
   ]
  },
  {
   "cell_type": "code",
   "execution_count": null,
   "metadata": {},
   "outputs": [],
   "source": []
  },
  {
   "cell_type": "code",
   "execution_count": 263,
   "metadata": {},
   "outputs": [
    {
     "name": "stdout",
     "output_type": "stream",
     "text": [
      "ITEMS FOR SALE ['tv', 'iphone', 'samsun', 'tablet', 'computer', 'headphoes', 'camera', 'soundBar']\n",
      "your shoping cart is empty:(\n",
      "Do you want to : Show/Add/Delete any of the items or Quit? quit\n"
     ]
    }
   ],
   "source": [
    "# Create a class called cart that retains items and has methods to add, remove, and show\n",
    "store = {\n",
    "    'tv': 200,\n",
    "    'iphone':1000,\n",
    "    'samsun':900,\n",
    "    'tablet': 300,\n",
    "    'computer':1100,\n",
    "    'headphoes':200,\n",
    "    'camera':300,\n",
    "    'soundBar':150\n",
    "    \n",
    "}\n",
    "shopCart=[]\n",
    "options = ('show', 'add', 'delete')\n",
    "#****************************************************************************\n",
    "class inventory():\n",
    "    \n",
    "    def __init__(self, item, price, quantity=0):\n",
    "        self.item = item\n",
    "        self.price = price\n",
    "        self.quantity = quantity\n",
    "        \n",
    "    def printI(self):\n",
    "        print(self.price)\n",
    "#***************************************************************************\n",
    "def addItem(add):\n",
    "    print(f\"{add} will be added to your shoping cart\")\n",
    "    add = inventory(add,store[add],+1)\n",
    "    shopCart.append(add.item)\n",
    "    print(shopCart)\n",
    "    print(add.__dict__)\n",
    "#***************************************************************************\n",
    "def show(add):\n",
    "    pass\n",
    "#***************************************************************************\n",
    "def shop():\n",
    "    print(f\"ITEMS FOR SALE {[key for key in store.keys()]}\")\n",
    "    while True:\n",
    "        \n",
    "#         print items in shopping cart if empty prints \"empty\"\n",
    "        if shopCart:\n",
    "            print(f\"Your cart: {[x for x in shopCart]}\")\n",
    "            print(f\"Your total: ${sum([x.price for x in shopCart])}\")\n",
    "        else:\n",
    "            print(\"your shoping cart is empty:(\")\n",
    "            \n",
    "        #*********************** takes in input ********************************    \n",
    "        input1 = input(\"Do you want to : Show/Add/Delete any of the items or Quit? \").lower().strip()\n",
    "        #checks if input is == quit\n",
    "        if input1 == 'quit':\n",
    "            break\n",
    "        elif input1 in options: #else continue with the other options\n",
    "            \n",
    "            add = input(f\"What would you like too {input1} \").lower().strip()\n",
    "            \n",
    "            # checks if the input option and responds accordingly \n",
    "            if input1 == options[0]: #if input == show \n",
    "                if add in str(store.keys()):#if add = key \n",
    "                    print(f\"{add} is ${store[add]}\")#it will print out item and price\n",
    "                else:\n",
    "                    print(f\"{add} is not it available\")\n",
    "            #************************************************************\n",
    "            elif input1 == options[1]:\n",
    "                if add in str(store.keys()):\n",
    "                    addItem(add)\n",
    "                else:\n",
    "                    print(f\"{add} is not it available\")\n",
    "            #************************************************************\n",
    "            elif input1 == options[2]:\n",
    "                if add in shopCart:\n",
    "                    shopCart.remove(add)\n",
    "                else:\n",
    "                    print(f\"{add} is not in your cart\")\n",
    "            #************************************************************\n",
    "            elif add == 'quit':\n",
    "                break\n",
    "            #************************************************************\n",
    "            else:\n",
    "                print(\"Please enter a valid option\")\n",
    "            #************************************************************\n",
    "        else:\n",
    "            print(\"Please enter a valid option\")\n",
    "            \n",
    "        print('************************************************')\n",
    "#         clear_output()    comented out so you can see the steps happening\n",
    "    \n",
    "    \n",
    "#***************************MAIN FUNCTION*******************************\n",
    "def main():\n",
    "    shop()\n",
    "main()\n",
    "    "
   ]
  },
  {
   "cell_type": "code",
   "execution_count": 290,
   "metadata": {},
   "outputs": [
    {
     "name": "stdout",
     "output_type": "stream",
     "text": [
      "ITEMS FOR SALE: ['tv', 'iphone', 'samsung', 'tablet', 'computer', 'headphones', 'camera', 'sound bar']\n",
      "your shoping cart is empty:(\n",
      "Do you want to : Show/Add/Delete any of the items or Quit? add\n",
      "What would you like too add tablet\n",
      "tablet will be added to your shoping cart\n",
      "************************************************\n",
      "Your cart: ['tablet']\n",
      "Your total: $300\n",
      "Do you want to : Show/Add/Delete any of the items or Quit? add\n",
      "What would you like too add iphone\n",
      "iphone will be added to your shoping cart\n",
      "************************************************\n",
      "Your cart: ['tablet', 'iphone']\n",
      "Your total: $1300\n",
      "Do you want to : Show/Add/Delete any of the items or Quit? show \n",
      "What would you like too show computer\n",
      "computer is $1100\n",
      "************************************************\n",
      "Your cart: ['tablet', 'iphone']\n",
      "Your total: $1300\n",
      "Do you want to : Show/Add/Delete any of the items or Quit? delete\n",
      "What would you like too delete tablet\n",
      "************************************************\n",
      "Your cart: ['iphone']\n",
      "Your total: $1000\n",
      "Do you want to : Show/Add/Delete any of the items or Quit? add\n",
      "What would you like too add computer\n",
      "computer will be added to your shoping cart\n",
      "************************************************\n",
      "Your cart: ['iphone', 'computer']\n",
      "Your total: $2100\n",
      "Do you want to : Show/Add/Delete any of the items or Quit? quit\n"
     ]
    }
   ],
   "source": [
    "#**********************************************\n",
    "class inventory():\n",
    "    \n",
    "    def __init__(self, item, price, quantity=0):\n",
    "        self.item = item\n",
    "        self.price = price\n",
    "        self.quantity = quantity\n",
    "        \n",
    "    def printI(self):\n",
    "        print(self.price)\n",
    "#*********************************************        \n",
    "def addStore():\n",
    "    tv = inventory('tv',200)\n",
    "    iphone = inventory('iphone',1000)\n",
    "    samsung = inventory('samsung',900)\n",
    "    tablet = inventory('tablet',300)\n",
    "    computer = inventory('computer',1100)\n",
    "    headphones = inventory('headphones',200)\n",
    "    camera = inventory('camera',300)\n",
    "    soundBar = inventory('sound bar',150)\n",
    "#*******************************************\n",
    "store = {\n",
    "    tv.item: tv.price,\n",
    "    iphone.item: iphone.price,\n",
    "    samsung.item: samsung.price,\n",
    "    tablet.item: tablet.price,\n",
    "    computer.item: computer.price,\n",
    "    headphones.item: headphones.price,\n",
    "    camera.item: camera.price,\n",
    "    soundBar.item: soundBar.price\n",
    "    \n",
    "}\n",
    "\n",
    "\n",
    "options = ('show', 'add', 'delete')\n",
    "def shop():\n",
    "    shoppingCart ={}\n",
    "    print(f\"ITEMS FOR SALE: {[x for x in store]}\")\n",
    "    while True:\n",
    "        \n",
    "        #print items in shopping cart if empty prints \"empty\"\n",
    "        if shoppingCart:\n",
    "            print(f\"Your cart: {[x for x in shoppingCart]}\")\n",
    "            print(f\"Your total: ${sum(shoppingCart.values())}\")\n",
    "        else:\n",
    "            print(\"your shoping cart is empty:(\")\n",
    "            \n",
    "        #*********************** takes in input ********************************    \n",
    "        input1 = input(\"Do you want to : Show/Add/Delete any of the items or Quit? \").lower().strip()\n",
    "        #checks if input is == quit\n",
    "        if input1 == 'quit':\n",
    "            break\n",
    "        elif input1 in options: #else continue with the other options\n",
    "            \n",
    "            add = input(f\"What would you like too {input1} \").lower().strip()\n",
    "            \n",
    "            # checks if the input option and responds accordingly \n",
    "            if input1 == options[0]: #if input == show \n",
    "                if add in store.keys():#if add = key \n",
    "                    print(f\"{add} is ${store[add]}\")#it will print out item and price\n",
    "                else:\n",
    "                    print(f\"{add} is not it available\")\n",
    "            #************************************************************\n",
    "            elif input1 == options[1]:\n",
    "                if add in store.keys():\n",
    "                    print(f\"{add} will be added to your shoping cart\")\n",
    "                    shoppingCart[add] = store[add]\n",
    "                else:\n",
    "                    print(f\"{add} is not it available\")\n",
    "            #************************************************************\n",
    "            elif input1 == options[2]:\n",
    "                if add in shoppingCart:\n",
    "                    del shoppingCart[add]\n",
    "                else:\n",
    "                    print(f\"{add} is not in your cart\")\n",
    "            #************************************************************\n",
    "            elif add == 'quit':\n",
    "                break\n",
    "            #************************************************************\n",
    "            else:\n",
    "                print(\"Please enter a valid option\")\n",
    "            #************************************************************\n",
    "        else:\n",
    "            print(\"Please enter a valid option\")\n",
    "            \n",
    "        print('************************************************')\n",
    "#         clear_output()    comented out so you can see the steps happening\n",
    "def main():\n",
    "    addStore()\n",
    "    shop()\n",
    "main()\n"
   ]
  },
  {
   "cell_type": "code",
   "execution_count": 282,
   "metadata": {},
   "outputs": [
    {
     "name": "stdout",
     "output_type": "stream",
     "text": [
      "Help on class inventory in module __main__:\n",
      "\n",
      "class inventory(builtins.object)\n",
      " |  inventory(items, price, quantity=0)\n",
      " |  \n",
      " |  Methods defined here:\n",
      " |  \n",
      " |  __init__(self, items, price, quantity=0)\n",
      " |      Initialize self.  See help(type(self)) for accurate signature.\n",
      " |  \n",
      " |  printI(self)\n",
      " |  \n",
      " |  ----------------------------------------------------------------------\n",
      " |  Data descriptors defined here:\n",
      " |  \n",
      " |  __dict__\n",
      " |      dictionary for instance variables (if defined)\n",
      " |  \n",
      " |  __weakref__\n",
      " |      list of weak references to the object (if defined)\n",
      "\n"
     ]
    }
   ],
   "source": [
    "help(inventory)"
   ]
  },
  {
   "cell_type": "markdown",
   "metadata": {},
   "source": [
    "### Exercise 2 - Write a Python class which has two methods get_String and print_String. get_String accept a string from the user and print_String print the string in upper case"
   ]
  },
  {
   "cell_type": "code",
   "execution_count": 296,
   "metadata": {},
   "outputs": [
    {
     "name": "stdout",
     "output_type": "stream",
     "text": [
      "what is your name? gabe\n",
      "GABE\n"
     ]
    }
   ],
   "source": [
    "class stuff():    \n",
    "        \n",
    "    def getString(self):\n",
    "        self.enter = input(\"what is your name? \")\n",
    "    def printString(self):\n",
    "        print(self.enter.upper())\n",
    "   \n",
    "the = stuff()\n",
    "\n",
    "the.getString()\n",
    "the.printString()"
   ]
  }
 ],
 "metadata": {
  "kernelspec": {
   "display_name": "Python 3",
   "language": "python",
   "name": "python3"
  },
  "language_info": {
   "codemirror_mode": {
    "name": "ipython",
    "version": 3
   },
   "file_extension": ".py",
   "mimetype": "text/x-python",
   "name": "python",
   "nbconvert_exporter": "python",
   "pygments_lexer": "ipython3",
   "version": "3.8.5"
  }
 },
 "nbformat": 4,
 "nbformat_minor": 2
}
